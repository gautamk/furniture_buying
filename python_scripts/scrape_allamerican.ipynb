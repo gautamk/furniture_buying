{
 "cells": [
  {
   "cell_type": "code",
   "execution_count": 42,
   "id": "835a4780-591f-4a04-a1cf-6b4c80702989",
   "metadata": {},
   "outputs": [],
   "source": [
    "from bs4 import BeautifulSoup\n",
    "import requests\n",
    "import json"
   ]
  },
  {
   "cell_type": "code",
   "execution_count": 9,
   "id": "efbb0798-bdc2-470f-a451-ae9f5fc3206a",
   "metadata": {},
   "outputs": [],
   "source": [
    "URL = \"https://allamerican.org/lists/furniture/\"\n",
    "page = requests.get(URL)\n",
    "soup = BeautifulSoup(page.content, \"html.parser\")"
   ]
  },
  {
   "cell_type": "code",
   "execution_count": 47,
   "id": "650f6105-32ad-47e2-8a7b-381cb161bd29",
   "metadata": {},
   "outputs": [],
   "source": [
    "results = {}\n",
    "for div in soup.find_all(name='div', class_= 'brand-card'):\n",
    "    brand_name = div.select('h4>a')[0].text.strip()\n",
    "    urls = {str(d.text.strip()): str(d['href']) for d in div.select('a')}\n",
    "    results[brand_name] = urls\n"
   ]
  },
  {
   "cell_type": "code",
   "execution_count": 51,
   "id": "5ab8d906-aeee-4d5e-af22-1d5f8a98c8b1",
   "metadata": {},
   "outputs": [],
   "source": [
    "with open('allamerican.json', 'w') as f:\n",
    "    json.dump(results, f)"
   ]
  }
 ],
 "metadata": {
  "kernelspec": {
   "display_name": "Python 3 (ipykernel)",
   "language": "python",
   "name": "python3"
  },
  "language_info": {
   "codemirror_mode": {
    "name": "ipython",
    "version": 3
   },
   "file_extension": ".py",
   "mimetype": "text/x-python",
   "name": "python",
   "nbconvert_exporter": "python",
   "pygments_lexer": "ipython3",
   "version": "3.10.13"
  }
 },
 "nbformat": 4,
 "nbformat_minor": 5
}
